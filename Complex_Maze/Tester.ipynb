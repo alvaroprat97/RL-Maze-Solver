{
 "cells": [
  {
   "cell_type": "code",
   "execution_count": 1,
   "metadata": {},
   "outputs": [
    {
     "name": "stdout",
     "output_type": "stream",
     "text": [
      "Reached goal in 62 steps.\n"
     ]
    }
   ],
   "source": [
    "import time\n",
    "import numpy as np\n",
    "\n",
    "from random_environment import Environment\n",
    "from agent import Agent\n",
    "\n",
    "\n",
    "# Main entry point\n",
    "if __name__ == \"__main__\":\n",
    "\n",
    "    # This determines whether the environment will be displayed on each each step.\n",
    "    # When we train your code for the 10 minute period, we will not display the environment.\n",
    "    display_on = False\n",
    "\n",
    "    # Create a random seed, which will define the environment\n",
    "    random_seed = int(time.time())\n",
    "    np.random.seed(random_seed)\n",
    "\n",
    "    # Create a random environment\n",
    "    environment = Environment(magnification=500)\n",
    "\n",
    "    # Create an agent\n",
    "    agent = Agent()\n",
    "\n",
    "    # Get the initial state\n",
    "    state = environment.init_state\n",
    "\n",
    "    # Determine the time at which training will stop, i.e. in 10 minutes (600 seconds) time\n",
    "    start_time = time.time()\n",
    "    end_time = start_time + 600\n",
    "\n",
    "    # Train the agent, until the time is up\n",
    "    while time.time() < end_time:\n",
    "        # If the action is to start a new episode, then reset the state\n",
    "        if agent.has_finished_episode():\n",
    "            state = environment.init_state\n",
    "        # Get the state and action from the agent\n",
    "        action = agent.get_next_action(state)\n",
    "        # Get the next state and the distance to the goal\n",
    "        next_state, distance_to_goal = environment.step(state, action)\n",
    "        # Return this to the agent\n",
    "        agent.set_next_state_and_distance(next_state, distance_to_goal)\n",
    "        # Set what the new state is\n",
    "        state = next_state\n",
    "        # Optionally, show the environment\n",
    "        if display_on:\n",
    "            environment.show(state)\n",
    "\n",
    "    # Test the agent for 100 steps, using its greedy policy\n",
    "    state = environment.init_state\n",
    "    has_reached_goal = False\n",
    "    for step_num in range(100):\n",
    "        action = agent.get_greedy_action(state)\n",
    "        next_state, distance_to_goal = environment.step(state, action)\n",
    "        # The agent must achieve a maximum distance of 0.03 for use to consider it \"reaching the goal\"\n",
    "        if distance_to_goal < 0.03:\n",
    "            has_reached_goal = True\n",
    "            break\n",
    "        state = next_state\n",
    "\n",
    "    # Print out the result\n",
    "    if has_reached_goal:\n",
    "        print('Reached goal in ' + str(step_num) + ' steps.')\n",
    "    else:\n",
    "        print('Did not reach goal. Final distance = ' + str(distance_to_goal))"
   ]
  }
 ],
 "metadata": {
  "kernelspec": {
   "display_name": "Python 3",
   "language": "python",
   "name": "python3"
  },
  "language_info": {
   "codemirror_mode": {
    "name": "ipython",
    "version": 3
   },
   "file_extension": ".py",
   "mimetype": "text/x-python",
   "name": "python",
   "nbconvert_exporter": "python",
   "pygments_lexer": "ipython3",
   "version": "3.7.1"
  }
 },
 "nbformat": 4,
 "nbformat_minor": 2
}
